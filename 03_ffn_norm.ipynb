{
 "cells": [
  {
   "cell_type": "markdown",
   "id": "33b30bbf-b2a2-4aef-bfa6-135d71f71c9a",
   "metadata": {},
   "source": [
    "# 0. Import packages"
   ]
  },
  {
   "cell_type": "code",
   "execution_count": 2,
   "id": "7e8998d4-6d92-4b34-8b70-469d28fb522e",
   "metadata": {},
   "outputs": [],
   "source": [
    "import torch\n",
    "from torch import nn\n",
    "import torch.nn.functional as F\n",
    "import transformers\n",
    "from transformers import AutoTokenizer, AutoConfig, AutoModel\n",
    "import numpy as np\n",
    "import pandas as pd\n",
    "import matplotlib.pyplot as plt\n",
    "import matplotlib as mpl\n",
    "from IPython.display import Image"
   ]
  },
  {
   "cell_type": "markdown",
   "id": "038bb423-996d-4890-b2fe-ae43c00d09b3",
   "metadata": {},
   "source": [
    "# 1. Summary\n",
    "- FFN(x) = max(0, xW1 + b1)W2 + b2\n",
    "- Same FFN parameters shared across all positions (so it’s efficient)\n",
    "- In BERT: hidden size 768 -> 4*768=3072 → 768"
   ]
  },
  {
   "cell_type": "markdown",
   "id": "8d25d23a-5c12-48b7-880f-7f8166e1db66",
   "metadata": {},
   "source": [
    "# 2. Before FFN\n",
    "- Scaled dot product attention\n",
    "- Attention head\n",
    "- Multihead attention"
   ]
  },
  {
   "cell_type": "code",
   "execution_count": 5,
   "id": "b76003ea-be44-4031-b485-b41e33e70dde",
   "metadata": {},
   "outputs": [],
   "source": [
    "model_name = \"bert-base-uncased\"\n",
    "\n",
    "model = AutoModel.from_pretrained(model_name)\n",
    "tokenizer = AutoTokenizer.from_pretrained(model_name)\n",
    "config = AutoConfig.from_pretrained(model_name)"
   ]
  },
  {
   "cell_type": "code",
   "execution_count": 6,
   "id": "2a05b975-b118-4eea-bc31-f0eaa635ec38",
   "metadata": {},
   "outputs": [
    {
     "data": {
      "text/plain": [
       "BertConfig {\n",
       "  \"architectures\": [\n",
       "    \"BertForMaskedLM\"\n",
       "  ],\n",
       "  \"attention_probs_dropout_prob\": 0.1,\n",
       "  \"classifier_dropout\": null,\n",
       "  \"gradient_checkpointing\": false,\n",
       "  \"hidden_act\": \"gelu\",\n",
       "  \"hidden_dropout_prob\": 0.1,\n",
       "  \"hidden_size\": 768,\n",
       "  \"initializer_range\": 0.02,\n",
       "  \"intermediate_size\": 3072,\n",
       "  \"layer_norm_eps\": 1e-12,\n",
       "  \"max_position_embeddings\": 512,\n",
       "  \"model_type\": \"bert\",\n",
       "  \"num_attention_heads\": 12,\n",
       "  \"num_hidden_layers\": 12,\n",
       "  \"pad_token_id\": 0,\n",
       "  \"position_embedding_type\": \"absolute\",\n",
       "  \"transformers_version\": \"4.55.4\",\n",
       "  \"type_vocab_size\": 2,\n",
       "  \"use_cache\": true,\n",
       "  \"vocab_size\": 30522\n",
       "}"
      ]
     },
     "execution_count": 6,
     "metadata": {},
     "output_type": "execute_result"
    }
   ],
   "source": [
    "config"
   ]
  },
  {
   "cell_type": "code",
   "execution_count": 42,
   "id": "975659a3-5051-4f80-a5b0-d8d9150d946e",
   "metadata": {},
   "outputs": [],
   "source": [
    "def scaled_dot_product_attention(query, key, value):\n",
    "    dim_k = key.size(-1)\n",
    "    \n",
    "    attn_scores = torch.matmul(query, key.transpose(-2, -1)) / np.sqrt(dim_k)\n",
    "    attn_weights = torch.softmax(attn_scores, dim=-1)\n",
    "    attn_output = torch.matmul(attn_weights, value)\n",
    "\n",
    "    return attn_output\n",
    "\n",
    "class AttentionHead(nn.Module):\n",
    "    def __init__(self, embd_dim, head_dim):\n",
    "        super().__init__()\n",
    "    \n",
    "        self.Wq = nn.Linear(embd_dim, head_dim)\n",
    "        self.Wk = nn.Linear(embd_dim, head_dim)\n",
    "        self.Wv = nn.Linear(embd_dim, head_dim)\n",
    "\n",
    "    def forward(self, hidden_states):\n",
    "        q = self.Wq(hidden_states)\n",
    "        k = self.Wk(hidden_states)\n",
    "        v = self.Wv(hidden_states)\n",
    "\n",
    "        return scaled_dot_product_attention(q, k, v)\n",
    "\n",
    "class MultiHeadAttention(nn.Module):\n",
    "    def __init__(self, config):\n",
    "        super().__init__()\n",
    "        \n",
    "        embd_dim = config.hidden_size\n",
    "        num_heads = config.num_attention_heads\n",
    "        head_dim = embd_dim // num_heads\n",
    "\n",
    "        self.heads = nn.ModuleList([AttentionHead(embd_dim, head_dim) for _ in range(num_heads)])\n",
    "        self.output_layer = nn.Linear(embd_dim, embd_dim)\n",
    "\n",
    "    def forward(self, hidden_states):\n",
    "        x = torch.cat([head(hidden_states) for head in self.heads], dim=-1)\n",
    "        x = self.output_layer(x)\n",
    "        return x\n",
    "\n",
    "token_embedding = nn.Embedding(config.vocab_size, config.hidden_size)\n",
    "\n",
    "text = 'life like a struggle'\n",
    "\n",
    "model_input = tokenizer(text, return_tensors='pt', add_special_tokens=False)\n",
    "\n",
    "input_embeddings = token_embedding(model_input['input_ids'])\n",
    "\n",
    "mha = MultiHeadAttention(config)\n",
    "\n",
    "attn_output = mha(input_embeddings)"
   ]
  },
  {
   "cell_type": "code",
   "execution_count": 43,
   "id": "5a8d45bc-b77f-4cc6-9838-2a7182512f7e",
   "metadata": {},
   "outputs": [
    {
     "data": {
      "text/plain": [
       "(tensor([[[ 0.1888,  0.0080, -0.0605,  ...,  0.1424, -0.1505, -0.2065],\n",
       "          [ 0.2405, -0.0374,  0.0264,  ...,  0.0887, -0.1202, -0.1029],\n",
       "          [ 0.2112, -0.0095, -0.0498,  ...,  0.0648, -0.1001, -0.3737],\n",
       "          [ 0.3070, -0.0339, -0.0793,  ...,  0.0675, -0.1642, -0.1662]]],\n",
       "        grad_fn=<ViewBackward0>),\n",
       " torch.Size([1, 4, 768]))"
      ]
     },
     "execution_count": 43,
     "metadata": {},
     "output_type": "execute_result"
    }
   ],
   "source": [
    "attn_output, attn_output.shape"
   ]
  },
  {
   "cell_type": "markdown",
   "id": "bb3dbf95-fb1c-44c8-9e34-ba8f8939f412",
   "metadata": {},
   "source": [
    "# 3. FNN\n",
    "Activation function: GELU"
   ]
  },
  {
   "cell_type": "code",
   "execution_count": 44,
   "id": "5232739d-e24a-48be-85a5-943aa01b61e0",
   "metadata": {},
   "outputs": [
    {
     "data": {
      "image/png": "[encoded data removed]",
      "text/plain": [
       "<IPython.core.display.Image object>"
      ]
     },
     "execution_count": 44,
     "metadata": {
      "image/png": {
       "width": 400
      }
     },
     "output_type": "execute_result"
    }
   ],
   "source": [
    "from IPython.display import Image\n",
    "Image(filename='Images/GELU.png', width=400)"
   ]
  },
  {
   "cell_type": "code",
   "execution_count": 45,
   "id": "babe685a-e90d-41bb-a675-e1d52cd1aec5",
   "metadata": {},
   "outputs": [
    {
     "data": {
      "text/plain": [
       "tensor([[[ 0.0000, -0.0000, -0.0000,  ..., -0.0000,  0.0000, -0.0394],\n",
       "         [ 0.0106,  0.0351, -0.0208,  ..., -0.0482, -0.0187, -0.0000],\n",
       "         [ 0.0012,  0.0612,  0.0000,  ..., -0.0695,  0.0000, -0.0000],\n",
       "         [-0.0000,  0.0000,  0.0064,  ..., -0.0000,  0.0018, -0.0000]]],\n",
       "       grad_fn=<MulBackward0>)"
      ]
     },
     "execution_count": 45,
     "metadata": {},
     "output_type": "execute_result"
    }
   ],
   "source": [
    "class FeedForward(nn.Module):\n",
    "    def __init__(self, config):\n",
    "        super().__init__()\n",
    "        self.fc1 = nn.Linear(config.hidden_size, config.intermediate_size)\n",
    "        self.fc2 = nn.Linear(config.intermediate_size, config.hidden_size)\n",
    "        self.gelu = nn.GELU()\n",
    "        self.dropout = nn.Dropout()\n",
    "\n",
    "    def forward(self, hidden_states):\n",
    "        x = self.fc1(hidden_states)\n",
    "        x = self.gelu(x)\n",
    "        \n",
    "        x = self.fc2(x)\n",
    "        x = self.dropout(x)\n",
    "\n",
    "        return x\n",
    "\n",
    "ffn = FeedForward(config)\n",
    "ffn(attn_output)"
   ]
  },
  {
   "cell_type": "code",
   "execution_count": 38,
   "id": "15d9f891-8124-4cdd-bf38-2191483b8d23",
   "metadata": {},
   "outputs": [
    {
     "data": {
      "text/plain": [
       "(BertConfig {\n",
       "   \"architectures\": [\n",
       "     \"BertForMaskedLM\"\n",
       "   ],\n",
       "   \"attention_probs_dropout_prob\": 0.1,\n",
       "   \"classifier_dropout\": null,\n",
       "   \"gradient_checkpointing\": false,\n",
       "   \"hidden_act\": \"gelu\",\n",
       "   \"hidden_dropout_prob\": 0.1,\n",
       "   \"hidden_size\": 768,\n",
       "   \"initializer_range\": 0.02,\n",
       "   \"intermediate_size\": 3072,\n",
       "   \"layer_norm_eps\": 1e-12,\n",
       "   \"max_position_embeddings\": 512,\n",
       "   \"model_type\": \"bert\",\n",
       "   \"num_attention_heads\": 12,\n",
       "   \"num_hidden_layers\": 12,\n",
       "   \"pad_token_id\": 0,\n",
       "   \"position_embedding_type\": \"absolute\",\n",
       "   \"transformers_version\": \"4.55.4\",\n",
       "   \"type_vocab_size\": 2,\n",
       "   \"use_cache\": true,\n",
       "   \"vocab_size\": 30522\n",
       " },\n",
       " BertIntermediate(\n",
       "   (dense): Linear(in_features=768, out_features=3072, bias=True)\n",
       "   (intermediate_act_fn): GELUActivation()\n",
       " ),\n",
       " BertOutput(\n",
       "   (dense): Linear(in_features=3072, out_features=768, bias=True)\n",
       "   (LayerNorm): LayerNorm((768,), eps=1e-12, elementwise_affine=True)\n",
       "   (dropout): Dropout(p=0.1, inplace=False)\n",
       " ))"
      ]
     },
     "execution_count": 38,
     "metadata": {},
     "output_type": "execute_result"
    }
   ],
   "source": [
    "config, model.encoder.layer[0].intermediate, model.encoder.layer[0].output"
   ]
  },
  {
   "cell_type": "markdown",
   "id": "b286d817-9c9b-4b02-ba11-97d7fd60f0fd",
   "metadata": {},
   "source": [
    "# 4. layer norm and skip connection\n",
    "#### LayerNorm keeps activations balanced, making Transformer training stable and efficient.\n",
    "- What: LayerNorm normalizes the hidden states across features for each token, keeping mean ≈ 0 and variance ≈ 1.\n",
    "- Why: It stabilizes training, prevents exploding/vanishing activations, and helps gradients flow smoothly.\n",
    "\n",
    "\n",
    "LayerNorm -> appears in two places\n",
    "- embeddings\n",
    "- output\n",
    "\n",
    "Transformer -> **Post layer normalization** -> appears after the layer"
   ]
  },
  {
   "cell_type": "markdown",
   "id": "17d73b98-1d99-44ae-b191-ce8a763c545d",
   "metadata": {},
   "source": [
    "# 5. EncoderLayer"
   ]
  },
  {
   "cell_type": "code",
   "execution_count": 50,
   "id": "f637e6b9-0272-42f1-a6c3-2cd40a3ab169",
   "metadata": {},
   "outputs": [],
   "source": [
    "class TransformerEncoderLayer(nn.Module):\n",
    "    def __init__(self, config):\n",
    "        super().__init__()\n",
    "        self.attn = MultiHeadAttention(config)\n",
    "        self.ln1 = nn.LayerNorm(config.hidden_size)\n",
    "        self.ffn = FeedForward(config)\n",
    "        self.ln2 = nn.LayerNorm(config.hidden_size)\n",
    "\n",
    "    def forward(self, x):\n",
    "        x = x + self.ln1(self.attn(x))\n",
    "        x = x + self.ln2(self.ffn(x))\n",
    "\n",
    "        return x"
   ]
  },
  {
   "cell_type": "code",
   "execution_count": 53,
   "id": "9c10fcca-244e-46ee-abb7-671d87e977ee",
   "metadata": {},
   "outputs": [
    {
     "data": {
      "text/plain": [
       "tensor([[[-0.9094,  1.4654, -2.3417,  ..., -1.1118,  0.1068,  0.2173],\n",
       "         [ 2.1450,  0.4420, -0.2350,  ...,  2.4566,  0.3403,  0.1372],\n",
       "         [-0.3365, -0.1628,  1.6537,  ...,  0.9059, -0.2222, -0.4539],\n",
       "         [ 0.5115, -1.7077, -1.8344,  ...,  1.7755, -1.6591,  1.3973]]],\n",
       "       grad_fn=<AddBackward0>)"
      ]
     },
     "execution_count": 53,
     "metadata": {},
     "output_type": "execute_result"
    }
   ],
   "source": [
    "encoder_layer = TransformerEncoderLayer(config)\n",
    "encoder_layer(input_embeddings)"
   ]
  }
 ],
 "metadata": {
  "kernelspec": {
   "display_name": "Python 3.10 (bert)",
   "language": "python",
   "name": "py310"
  },
  "language_info": {
   "codemirror_mode": {
    "name": "ipython",
    "version": 3
   },
   "file_extension": ".py",
   "mimetype": "text/x-python",
   "name": "python",
   "nbconvert_exporter": "python",
   "pygments_lexer": "ipython3",
   "version": "3.10.18"
  }
 },
 "nbformat": 4,
 "nbformat_minor": 5
}
